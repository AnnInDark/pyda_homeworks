{
 "cells": [
  {
   "cell_type": "markdown",
   "metadata": {},
   "source": [
    "# Домашнее задание к лекции \"Базовые понятия статистики\""
   ]
  },
  {
   "cell_type": "markdown",
   "metadata": {},
   "source": [
    "## Обязательная часть\n",
    "\n",
    "Будем осуществлять работу с непростым [набором данных](https://raw.githubusercontent.com/obulygin/pyda_homeworks/master/statistics_basics/horse_data.csv) о состоянии здоровья лошадей, испытывающих кишечные колики. \n",
    "\n",
    "### Задание 1. Базовое изучение\n",
    "\n",
    "Изучить представленный набор данных на основе [описания его столбцов](https://raw.githubusercontent.com/obulygin/pyda_homeworks/master/statistics_basics/horse_data.names) и выбрать 8 столбцов для дальнейшего изучения (среди них должны быть как числовые, так и категориальные). Провести расчет базовых метрик для них, кратко описать результаты.\n",
    "\n",
    "### Задание 2. Работа с выбросами\n",
    "\n",
    "В выбранных числовых столбцах найти выбросы, выдвинуть гипотезы об их причинах и проинтерпретировать результаты. Принять и обосновать решение о дальнейшей работе с ними.\n",
    "\n",
    "### Задание 3. Работа с пропусками\n",
    "\n",
    "Рассчитать количество пропусков для всех выбранных столбцов. Принять и обосновать решение о методе работы с пропусками по каждому столбцу, сформировать датафрейм, в котором пропуски будут отсутствовать."
   ]
  },
  {
   "cell_type": "markdown",
   "metadata": {},
   "source": [
    "### Решение"
   ]
  },
  {
   "cell_type": "markdown",
   "metadata": {},
   "source": [
    "#### 1 Общая информация"
   ]
  },
  {
   "cell_type": "code",
   "execution_count": null,
   "metadata": {},
   "outputs": [],
   "source": [
    "import pandas as pd\n",
    "\n",
    "hdf = pd.read_csv('./horse_data.csv', header=None, names=['had_surgery', 'age', 'hospital_number', 'rectal_temp', 'pulse', 'respiratory_rate',\n",
    "'extremities_temp', 'peripheral_pulse', 'mucous_membranes', 'capillary_refill_time', 'pain',\n",
    "'peristalsis', 'abdominal_distension', 'nasogastric_tube', 'nasogastric_reflux',\n",
    "'nasogastric_reflux_PH', 'rectal_examination', 'abdomen', 'packed_cell_volume', 'total_protein',\n",
    "'abdominocentesis_appearance', 'abdomcentesis_total_protein', 'outcome', 'surgical_lesion',\n",
    "'type_of_lesion1', 'type_of_lesion2', 'type_of_lesion3', 'cp_data'],\n",
    "                  na_values='?', \n",
    "                  converters = {'type_of_lesion1' : str,\n",
    "                                'type_of_lesion2' : str,\n",
    "                                'type_of_lesion3' : str\n",
    "                                })\n",
    "# Общая информация\n",
    "hdf.info()\n",
    "hdf.describe()"
   ]
  },
  {
   "cell_type": "code",
   "execution_count": null,
   "metadata": {},
   "outputs": [],
   "source": [
    "hdf[['had_surgery', 'age', 'outcome', 'cp_data']].value_counts()\n",
    "# Смотрим на статичные показатели - видим что большинство лошадей взрослые, без патологии, выжили."
   ]
  },
  {
   "cell_type": "code",
   "execution_count": null,
   "metadata": {},
   "outputs": [],
   "source": [
    "hdf[['had_surgery', 'surgical_lesion']].value_counts()\n",
    "# Наличие операции и поражения имеет высокую корреляцию"
   ]
  },
  {
   "cell_type": "code",
   "execution_count": null,
   "metadata": {},
   "outputs": [],
   "source": [
    "hdf[['age', 'outcome']].value_counts()\n",
    "# Смертность юных выше, чем взрослых особей"
   ]
  },
  {
   "cell_type": "markdown",
   "metadata": {},
   "source": [
    "#### 2 Выбросы"
   ]
  },
  {
   "cell_type": "code",
   "execution_count": null,
   "metadata": {},
   "outputs": [],
   "source": [
    "# Смотрим на статистику дискретных показателей\n",
    "hdf[['rectal_temp', 'pulse', 'respiratory_rate', 'nasogastric_reflux_PH', 'packed_cell_volume', 'total_protein', 'abdomcentesis_total_protein']].describe()"
   ]
  },
  {
   "cell_type": "code",
   "execution_count": null,
   "metadata": {},
   "outputs": [],
   "source": [
    "# Для каждого считаем выбросы\n",
    "def outliers(col_name):\n",
    "    q1 = hdf[col_name].quantile(0.25)\n",
    "    q3 = hdf[col_name].quantile(0.75)\n",
    "    iqr = q3 - q1\n",
    "    lower_bound = q1 - (1.5 * iqr) \n",
    "    upper_bound = q3 + (1.5 * iqr)\n",
    "    return pd.concat([hdf, hdf[(~hdf[col_name].isna())&(hdf[col_name].between(lower_bound, upper_bound, inclusive=True))].sort_values(col_name)]).drop_duplicates(keep=False)[~hdf[col_name].isna()][col_name]\n",
    "\n",
    "\n",
    "for x in ['rectal_temp', 'pulse', 'respiratory_rate', 'nasogastric_reflux_PH', 'packed_cell_volume', 'total_protein', 'abdomcentesis_total_protein']:\n",
    "    print(f'\\n{x}\\n')\n",
    "    print(hdf[x].quantile([0.25, 0.5, 0.75]))\n",
    "    print(outliers(x).value_counts())"
   ]
  },
  {
   "cell_type": "code",
   "execution_count": null,
   "metadata": {},
   "outputs": [],
   "source": [
    "# Отсюда видим: total_protein, nasogastric_reflux_PH - без выбросов.\n",
    "# packed_cell_volume незначительно количество выбросов (1%) - можно удалить/пренебречь, в pulse аналогично явно зашкаливающие значения, хоть их и немного больше\n",
    "hdf.loc[hdf.packed_cell_volume >= 74.0, 'packed_cell_volume'] = None\n",
    "hdf.loc[hdf.pulse > 150, 'pulse'] = None\n",
    "# rectal_temp на вид не являются аномалиями - нормальные данные\n",
    "# respiratory_rate достаточно много выбросов, вероятно возможные значения, не вижу закономерности/явной ошибки.\n",
    "# Аналогично с abdomcentesis_total_protein - допустимо, что у некоторых показатель завышен"
   ]
  },
  {
   "cell_type": "markdown",
   "metadata": {},
   "source": [
    "#### 3 Пропуски"
   ]
  },
  {
   "cell_type": "code",
   "execution_count": null,
   "metadata": {},
   "outputs": [],
   "source": [
    "# nasogastric_reflux_PH отсутствует у большинства респондентов по причине отсутствия показателя nasogastric_reflux (null/1).\n",
    "hdf[hdf.nasogastric_reflux_PH.isna()]['nasogastric_reflux'].value_counts()\n",
    "# Где null - видимо не исследовалось, заполнять нечем. Для \"greater amount of reflux\" - т.е. nasogastric_reflux = 2 и 3 можно заполнить пропуски медианным значением \n",
    "hdf['nasogastric_reflux_PH'].fillna(hdf.groupby('nasogastric_reflux')['nasogastric_reflux_PH'].transform('median'), inplace=True)\n"
   ]
  },
  {
   "cell_type": "code",
   "execution_count": null,
   "metadata": {},
   "outputs": [],
   "source": [
    "# Для отсутствующих abdomen можно поставить значение 2 - other\n",
    "hdf['abdomen'].fillna(2, inplace=True)\n",
    "# Для всех c abdomen проставим медианное значение abdominocentesis_appearance, т.к. значения коррелируют\n",
    "hdf['abdominocentesis_appearance'].fillna(hdf['abdominocentesis_appearance'].groupby(hdf.abdomen).transform('median'), inplace=True)"
   ]
  },
  {
   "cell_type": "code",
   "execution_count": null,
   "metadata": {},
   "outputs": [],
   "source": [
    "# rectal_temp и pulse, respiratory_rate можно заполнить медианными в рамках групп. Здесь смотрим от каких категорий зависят дискретные величины\n",
    "hdf[['surgical_lesion', 'age', 'had_surgery', 'abdomen', 'rectal_temp', 'pulse', 'respiratory_rate']].groupby(['abdomen', 'had_surgery', 'surgical_lesion', 'age']).median()\n",
    "# Видим, что rectal_temp небольшой разброс - можно проставить общую медианную\n",
    "hdf['rectal_temp'].fillna(hdf['rectal_temp'].median(), inplace=True)\n",
    "# respiratory_rate и pulse кажется зависят от прочих, есть смысл группировать по всем.\n",
    "hdf['respiratory_rate'].fillna(hdf.groupby(['had_surgery', 'surgical_lesion', 'age', 'abdomen'])['respiratory_rate'].transform('median'), inplace=True)\n",
    "hdf['pulse'].fillna(hdf.groupby(['had_surgery', 'surgical_lesion', 'age', 'abdomen'])['pulse'].transform('median'), inplace=True)\n",
    "# rectal_examination отсутствует, т.к. вероятно исследования не проводились. Аналогично abdomcentesis_total_protein\n"
   ]
  },
  {
   "cell_type": "code",
   "execution_count": null,
   "metadata": {},
   "outputs": [],
   "source": [
    "hdf.info()\n",
    "hdf.describe()"
   ]
  },
  {
   "cell_type": "markdown",
   "metadata": {},
   "source": [
    "## Дополнительная часть (необязательная)\n",
    "\n",
    "Выполнить задания 1-3 для всего набора данных."
   ]
  },
  {
   "cell_type": "markdown",
   "metadata": {},
   "source": [
    "#### ПРИМЕЧАНИЕ\n",
    "Домашнее задание сдается ссылкой на репозиторий [GitHub](https://github.com/).\n",
    "Не сможем проверить или помочь, если вы пришлете:\n",
    "- файлы;\n",
    "- архивы;\n",
    "- скриншоты кода.\n",
    "\n",
    "Все обсуждения и консультации по выполнению домашнего задания ведутся только на соответствующем канале в slack.\n",
    "\n",
    "##### Как правильно задавать вопросы аспирантам, преподавателям и коллегам\n",
    "Прежде чем задать вопрос, попробуйте найти ответ в интернете. Навык самостоятельного поиска информации — один из важнейших. Каждый практикующий специалист любого уровня делает это ежедневно.\n",
    "\n",
    "Сформулируйте вопрос по алгоритму:  \n",
    "1) Что я делаю?  \n",
    "2) Какого результата я ожидаю?  \n",
    "3) Как фактический результат отличается от ожидаемого?  \n",
    "4) Что я уже попробовал сделать, чтобы исправить проблему?  \n",
    "\n",
    "По возможности прикрепите к вопросу скриншоты либо ссылки на код. Не выкладывайте все решение, оставляйте только проблемный и воспроизводимый участок кода."
   ]
  }
 ],
 "metadata": {
  "kernelspec": {
   "display_name": "Python 3",
   "language": "python",
   "name": "python3"
  },
  "language_info": {
   "codemirror_mode": {
    "name": "ipython",
    "version": 3
   },
   "file_extension": ".py",
   "mimetype": "text/x-python",
   "name": "python",
   "nbconvert_exporter": "python",
   "pygments_lexer": "ipython3",
   "version": "3.6.9"
  }
 },
 "nbformat": 4,
 "nbformat_minor": 4
}
