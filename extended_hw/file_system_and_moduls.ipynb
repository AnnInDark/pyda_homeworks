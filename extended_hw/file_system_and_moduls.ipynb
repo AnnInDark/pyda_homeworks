{
 "cells": [
  {
   "cell_type": "markdown",
   "id": "after-treaty",
   "metadata": {},
   "source": [
    "### Домашнее задание к лекции Работа с файловой системой и модули"
   ]
  },
  {
   "cell_type": "markdown",
   "id": "fatty-request",
   "metadata": {},
   "source": [
    "1. Переведите содержимое файла purchase_log.txt в словарь purchases вида:\n",
    "{‘1840e0b9d4’: ‘Продукты’, …}"
   ]
  },
  {
   "cell_type": "code",
   "execution_count": null,
   "id": "imported-secondary",
   "metadata": {},
   "outputs": [],
   "source": [
    "import ast\n",
    "f = open('purchase_log.txt')\n",
    "\n",
    "res = {}\n",
    "for d in f.readlines():\n",
    "    res[ast.literal_eval(d.strip())['user_id']] = ast.literal_eval(d.strip())['category']\n",
    "\n",
    "f.close()\n",
    "print(res)"
   ]
  },
  {
   "cell_type": "markdown",
   "id": "afraid-kingdom",
   "metadata": {},
   "source": [
    "2. Для каждого user_id в файле visit_log.csv определите третий столбец с категорией покупки (если покупка была, сам файл visit_log.csv изменять не надо). Запишите в файл funnel.csv визиты из файла visit_log.csv, в которых были покупки с указанием категории."
   ]
  },
  {
   "cell_type": "code",
   "execution_count": null,
   "id": "needed-checklist",
   "metadata": {},
   "outputs": [],
   "source": [
    "import ast\n",
    "f = open('purchase_log.txt')\n",
    "\n",
    "purchase = {}\n",
    "# Здесь можно было бы использовать csv.DictReader, но кажется так запись короче\n",
    "for d in f.readlines():\n",
    "    purchase[ast.literal_eval(d.strip())['user_id']] = ast.literal_eval(d.strip())['category']\n",
    "\n",
    "f.close()\n",
    "\n",
    "f = open('visit_log.csv')\n",
    "\n",
    "with open('funnel.csv', 'w') as res:\n",
    "    for d in f.readlines():\n",
    "        user = d.strip().split(',')[0]\n",
    "        cat =  d.strip().split(',')[1]\n",
    "        # Так же можно было использовать пакет csv и ф-ции writer() и writerow(), но так короче\n",
    "        if user in purchase:\n",
    "            a = res.write(f'{user},{cat},{purchase[user]}\\n') # переменная потому что иначе возвращает длину записанной строки. Не знаю можно ли избежать иначе ненужного вывода\n",
    "    res.close()\n",
    "\n",
    "f.close()\n",
    "\n",
    "# глобально хотелось visit_log.csv загнать в аналогичный purchase словарь и сделать map\n"
   ]
  }
 ],
 "metadata": {
  "kernelspec": {
   "display_name": "Python 3",
   "language": "python",
   "name": "python3"
  },
  "language_info": {
   "codemirror_mode": {
    "name": "ipython",
    "version": 3
   },
   "file_extension": ".py",
   "mimetype": "text/x-python",
   "name": "python",
   "nbconvert_exporter": "python",
   "pygments_lexer": "ipython3",
   "version": "3.6.9"
  }
 },
 "nbformat": 4,
 "nbformat_minor": 5
}
