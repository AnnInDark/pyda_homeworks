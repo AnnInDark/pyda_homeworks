{
 "cells": [
  {
   "cell_type": "markdown",
   "id": "departmental-grounds",
   "metadata": {},
   "source": [
    "## Задание 1\n",
    "Напишите функцию, которая классифицирует фильмы из материалов занятия по следующим правилам:\n",
    "- оценка 2 и меньше - низкий рейтинг\n",
    "- оценка 4 и меньше - средний рейтинг\n",
    "- оценка 4.5 и 5 - высокий рейтинг\n",
    "\n",
    "Результат классификации запишите в столбец class"
   ]
  },
  {
   "cell_type": "markdown",
   "id": "magnetic-vessel",
   "metadata": {},
   "source": [
    "### Решение"
   ]
  },
  {
   "cell_type": "code",
   "execution_count": 3,
   "id": "hollow-lebanon",
   "metadata": {},
   "outputs": [],
   "source": [
    "import pandas as pd\n",
    "\n",
    "movies = pd.read_csv('/home/annindark/_pandas1_datasets/ml-latest/movies.csv')\n",
    "rate = pd.read_csv('/home/annindark/_pandas1_datasets/ml-latest/ratings.csv')\n",
    "\n",
    "# Вынесла наружу из ф-ции для быстродействия\n",
    "rate = rate[['movieId','rating']].groupby('movieId').agg('mean')\n",
    "# соответственно условиям задачи и данным округляем до шага 0.5\n",
    "rate['rating'] = 0.5*round(rate['rating']/0.5)\n",
    "\n",
    "def RateType (movieId):\n",
    "    # Проверяем наличие фильма в списке с рейтингами, ибо иначе ошибка в следующей операции из-за ненайденного индекса\n",
    "    if any(rate.index == movieId):\n",
    "        mrate = rate.loc[movieId][0]\n",
    "        if mrate <= 2:\n",
    "            return 'low rate'\n",
    "        elif 2 < mrate <= 4:\n",
    "            return 'medium rate'\n",
    "        elif mrate >= 4.5:\n",
    "            return 'high rate'\n",
    "    else:\n",
    "        return None\n",
    "\n",
    "\n",
    "movies['class'] = movies.movieId.apply(RateType)"
   ]
  },
  {
   "cell_type": "markdown",
   "id": "alone-british",
   "metadata": {},
   "source": [
    "## Задание 2\n",
    "\n",
    "Используем файл keywords.csv.\n",
    "\n",
    "Необходимо написать гео-классификатор, который каждой строке сможет выставить географическую принадлежность определенному региону. Т. е. если поисковый запрос содержит название города региона, то в столбце ‘region’ пишется название этого региона. Если поисковый запрос не содержит названия города, то ставим ‘undefined’.\n",
    "\n",
    "Правила распределения по регионам Центр, Северо-Запад и Дальний Восток:\n",
    "```\n",
    "geo_data = {\n",
    "'Центр': ['москва', 'тула', 'ярославль'],\n",
    "'Северо-Запад': ['петербург', 'псков', 'мурманск'],\n",
    "'Дальний Восток': ['владивосток', 'сахалин', 'хабаровск']\n",
    "}\n",
    "```\n",
    "Результат классификации запишите в отдельный столбец region."
   ]
  },
  {
   "cell_type": "markdown",
   "id": "global-montgomery",
   "metadata": {},
   "source": [
    "### Решение"
   ]
  },
  {
   "cell_type": "code",
   "execution_count": null,
   "id": "revolutionary-amino",
   "metadata": {},
   "outputs": [],
   "source": [
    "import pandas as pd\n",
    "import re\n",
    "\n",
    "\n",
    "kv = pd.read_csv('/home/annindark/_pandas1_datasets/ml-latest/keywords.csv')\n",
    "\n",
    "def GetRegion (keyword):\n",
    "    if re.search(r'[\\b|-]петербур[г|ж]|псков|мурманск]', keyword):\n",
    "        return 'Северо-Запад'\n",
    "    elif re.search(r'\\bмоск[о]*в|тул|ярослав]', keyword):\n",
    "        return 'Центр'\n",
    "    elif re.search(r'\\bвладивосто[ч|к]|сахалин|хабаровск]', keyword):\n",
    "        return 'Дальний Восток'\n",
    "    else:\n",
    "        return 'undefined'\n",
    "\n",
    "\n",
    "kv['region'] = kv.keyword.apply(GetRegion)"
   ]
  },
  {
   "cell_type": "markdown",
   "id": "passive-boating",
   "metadata": {},
   "source": [
    "## Задание 3 (бонусное)\n",
    "\n",
    "Есть мнение, что “раньше снимали настоящее кино, не то что сейчас”. Ваша задача проверить это утверждение, используя файлы с рейтингами фильмов из прошлого домашнего занятия (файл movies.csv и ratings.csv из базы https://grouplens.org/datasets/movielens). Т. е. проверить верно ли, что с ростом года выпуска фильма его средний рейтинг становится ниже.\n",
    "\n",
    "При этом мы не будем затрагивать субьективные факторы выставления этих рейтингов, а пройдемся по следующему алгоритму:\n",
    "\n",
    "1. В переменную years запишите список из всех годов с 1950 по 2010.\n",
    "\n",
    "2. Напишите функцию production_year, которая каждой строке из названия фильма выставляет год выпуска. Не все названия фильмов содержат год выпуска в одинаковом формате, поэтому используйте следующий алгоритм:\n",
    "\n",
    "- для каждой строки пройдите по всем годам списка years\n",
    "- если номер года присутствует в названии фильма, то функция возвращает этот год как год выпуска\n",
    "- если ни один из номеров года списка years не встретился в названии фильма, то возвращается 1900 год\n",
    "\n",
    "3. Запишите год выпуска фильма по алгоритму пункта 2 в новый столбец ‘year’\n",
    "\n",
    "4. Посчитайте средний рейтинг всех фильмов для каждого значения столбца ‘year’ и отсортируйте результат по убыванию рейтинга\n",
    "\n"
   ]
  },
  {
   "cell_type": "markdown",
   "id": "forced-advertiser",
   "metadata": {},
   "source": [
    "### Решение"
   ]
  },
  {
   "cell_type": "code",
   "execution_count": null,
   "id": "human-reasoning",
   "metadata": {},
   "outputs": [],
   "source": [
    "import pandas as pd\n",
    "\n",
    "rate = pd.read_csv('/home/annindark/_pandas1_datasets/ml-latest/ratings.csv')\n",
    "\n",
    "# Подготовка данных\n",
    "rate = rate[['movieId','rating']].groupby('movieId').agg('mean')\n",
    "rate['rating'] = 0.5*round(rate['rating']/0.5)\n",
    "movies = pd.merge(\n",
    "    left=rate,\n",
    "    right=pd.read_csv('/home/annindark/_pandas1_datasets/ml-latest/movies.csv')[['movieId', 'title']],\n",
    "    how='inner', # нас же не интересуют фильмы без оценок?\n",
    "    left_on='movieId',\n",
    "    right_on='movieId')\n",
    "\n",
    "years = list(range(1950,2011))\n",
    "\n",
    "def ProductionYear(name):\n",
    "    # достаем из строки все числа\n",
    "    namenum = [int(i) for i in ''.join((ch if ch in '0123456789' else ' ') for ch in name).split()]\n",
    "    # Находим год из справочника years\n",
    "    # Глазами не нашла примера названия с годом внутри или годом создания не в конце, поэтому такой костыль.\n",
    "    # В случае фильма с названием 1984 возможна некорректная отработка\n",
    "    year = list(set(years) & set(namenum))\n",
    "    if year:\n",
    "        return year[-1]\n",
    "    else:\n",
    "        return 1900\n",
    "\n",
    "\n",
    "# Обогащаем данные\n",
    "movies['year'] = movies.title.apply(ProductionYear)\n",
    "\n",
    "# группируем/усредняем для результата\n",
    "movies[['year','rating']].groupby('year').agg('mean').sort_values(by='rating', ascending=False)\n"
   ]
  }
 ],
 "metadata": {
  "kernelspec": {
   "display_name": "Python 3",
   "language": "python",
   "name": "python3"
  },
  "language_info": {
   "codemirror_mode": {
    "name": "ipython",
    "version": 3
   },
   "file_extension": ".py",
   "mimetype": "text/x-python",
   "name": "python",
   "nbconvert_exporter": "python",
   "pygments_lexer": "ipython3",
   "version": "3.6.9"
  }
 },
 "nbformat": 4,
 "nbformat_minor": 5
}
