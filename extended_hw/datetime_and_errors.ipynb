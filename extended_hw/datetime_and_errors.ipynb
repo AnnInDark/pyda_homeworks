{
 "cells": [
  {
   "cell_type": "markdown",
   "id": "right-mattress",
   "metadata": {},
   "source": [
    "### Задание 1\n",
    "Печатные газеты использовали свой формат дат для каждого выпуска. Для каждой газеты из списка напишите формат указанной даты для перевода в объект datetime:\n",
    "```\n",
    "The Moscow Times - Wednesday, October 2, 2002\n",
    "The Guardian - Friday, 11.10.13\n",
    "Daily News - Thursday, 18 August 1977\n",
    "```"
   ]
  },
  {
   "cell_type": "markdown",
   "id": "periodic-mapping",
   "metadata": {},
   "source": [
    "### Решение"
   ]
  },
  {
   "cell_type": "code",
   "execution_count": null,
   "id": "beneficial-interference",
   "metadata": {},
   "outputs": [],
   "source": [
    "from datetime import datetime\n",
    "\n",
    "def NpDateFormat (**kwargs):\n",
    "    try:\n",
    "        _date = datetime.strptime(kwargs['date'], '%Y-%m-%d')\n",
    "        _newspaper = kwargs['newspaper']\n",
    "    except ValueError:\n",
    "        return 'Некорректные входные данные!'\n",
    "    if _newspaper == 'Daily News':\n",
    "        return _date.strftime(\"%A, %B %d, %Y\")\n",
    "    elif _newspaper == 'The Guardian':\n",
    "        return _date.strftime(\"%A, %d.%m.%y\")\n",
    "    elif _newspaper == 'The Moscow Times':\n",
    "        return _date.strftime(\"%A, %d %B %Y\")\n",
    "    else:\n",
    "        return 'Неизвестная газета!'\n",
    "\n",
    "\n",
    "print(NpDateFormat(newspaper='The Guardian',date='2020-05-20'))\n",
    "print(NpDateFormat(newspaper='The Moscow Times',date='2020-05-20'))\n",
    "print(NpDateFormat(newspaper='Daily News',date='2020-05-20'))\n",
    "\n",
    "# Сначала написала не в ту сторону - исправляюсь:\n",
    "def DtByNewspaper (**kwargs):\n",
    "    if kwargs['newspaper'] == 'The Moscow Times':\n",
    "        return datetime.strptime(kwargs['date'], \"%A, %B %d, %Y\")\n",
    "    elif kwargs['newspaper'] == 'The Guardian':\n",
    "        return datetime.strptime(kwargs['date'], \"%A, %d.%m.%y\")\n",
    "    elif kwargs['newspaper'] == 'Daily News':\n",
    "        return datetime.strptime(kwargs['date'], \"%A, %d %B %Y\")\n",
    "    else:\n",
    "        return 'Неизвестная газета!'\n",
    "\n",
    "\n",
    "print(DtByNewspaper(newspaper = 'The Moscow Times', date = 'Wednesday, October 2, 2002'))\n",
    "print(DtByNewspaper(newspaper = 'The Guardian', date = 'Friday, 11.10.13'))\n",
    "print(DtByNewspaper(newspaper = 'Daily News', date = 'Thursday, 18 August 1977'))\n"
   ]
  },
  {
   "cell_type": "markdown",
   "id": "protecting-yeast",
   "metadata": {},
   "source": [
    "### Задание 2\n",
    "Дан поток дат в формате YYYY-MM-DD, в которых встречаются некорректные значения:\n",
    "`stream = [‘2018-04-02’, ‘2018-02-29’, ‘2018-19-02’]`\n",
    "\n",
    "Напишите функцию, которая проверяет эти даты на корректность. Т. е. для каждой даты возвращает True (дата корректна) или False (некорректная дата)."
   ]
  },
  {
   "cell_type": "markdown",
   "id": "quantitative-matter",
   "metadata": {},
   "source": [
    "### Решение"
   ]
  },
  {
   "cell_type": "code",
   "execution_count": null,
   "id": "civic-translator",
   "metadata": {},
   "outputs": [],
   "source": [
    "from datetime import datetime\n",
    "# Это как альтернативное решение задачи про високосный год :)\n",
    "\n",
    "def DateCheck (stream):\n",
    "    for d in stream:\n",
    "        try:\n",
    "            _date = datetime.strptime(d, '%Y-%m-%d')\n",
    "            print(f'{d} - true')\n",
    "        except ValueError:\n",
    "            print(f'{d} - false')\n",
    "\n",
    "\n",
    "\n",
    "stream = ['2018-04-02', '2018-02-29', '2018-19-02']\n",
    "\n",
    "DateCheck(stream)\n"
   ]
  },
  {
   "cell_type": "markdown",
   "id": "moral-dover",
   "metadata": {},
   "source": [
    "### Задание 3\n",
    "Напишите функцию date_range, которая возвращает список дат за период от start_date до end_date. Даты должны вводиться в формате YYYY-MM-DD. В случае неверного формата или при start_date > end_date должен возвращаться пустой список."
   ]
  },
  {
   "cell_type": "markdown",
   "id": "bronze-small",
   "metadata": {},
   "source": [
    "### Решение"
   ]
  },
  {
   "cell_type": "code",
   "execution_count": null,
   "id": "rental-shelf",
   "metadata": {},
   "outputs": [],
   "source": [
    "from datetime import datetime, timedelta\n",
    "\n",
    "def DateRange (start_date, end_date):\n",
    "    res = []\n",
    "    try:\n",
    "        _sd = datetime.strptime(start_date, '%Y-%m-%d')\n",
    "        _ed = datetime.strptime(end_date, '%Y-%m-%d')\n",
    "    except ValueError:\n",
    "        return res\n",
    "    if _ed < _sd:\n",
    "        return res\n",
    "    else:\n",
    "        idate = _sd\n",
    "        while idate <= _ed:\n",
    "            res.append(idate.strftime('%Y-%m-%d'))\n",
    "            idate += timedelta(days=1)\n",
    "        return res\n",
    "\n",
    "print(DateRange ('2020-01-01','2020-01-05'))\n"
   ]
  },
  {
   "cell_type": "markdown",
   "id": "major-mining",
   "metadata": {},
   "source": [
    "### Задание 4 (бонусное)\n",
    "Ваш коллега прислал код функции:\n",
    "\n",
    "```\n",
    "DEFAULT_USER_COUNT = 3\n",
    "\n",
    "def delete_and_return_last_user(region, default_list=[‘A100’, ‘A101’, ‘A102’]):\n",
    "    \"\"\"\n",
    "    Удаляет из списка default_list последнего пользователя\n",
    "    и возвращает ID нового последнего пользователя.\n",
    "    \"\"\"\n",
    "    element_to_delete = default_list[-1]\n",
    "    default_list.remove(element_to_delete)\n",
    "    return default_list[DEFAULT_USER_COUNT-2]\n",
    "```\n",
    "При однократном вызове этой функции все работает корректно:\n",
    "```\n",
    "delete_and_return_last_user(1)\n",
    "‘A101’\n",
    "```\n",
    "\n",
    "Однако, при повторном вызове получается ошибка `IndexError: list index out of range.`\n",
    "\n",
    "Задание:\n",
    "\n",
    "1. Что значит ошибка list index out of range?\n",
    "2. Почему при первом запуске функция работает корректно, а при втором - нет?\n"
   ]
  },
  {
   "cell_type": "markdown",
   "id": "cleared-provider",
   "metadata": {},
   "source": [
    "### Решение"
   ]
  },
  {
   "cell_type": "markdown",
   "id": "professional-brain",
   "metadata": {},
   "source": [
    "1. Ошибка `IndexError: list index out of range.` возникает при обращении к несуществующему индексу списка.\n",
    "2. Ошибка на строке return. возникает потому что в ф-ции жестко зашито возвращать элемент списка номер `DEFAULT_USER_COUNT-2` (это 1 т.к. `DEFAULT_USER_COUNT` - константа) который существует при первом прогоне ф-ции (т.к. от default_list остается 2 элемента), а при втором вызове список уже короче на входе. Один элемент убирается и один остается. Поэтому при попытке обращения к элементу с индексом 1 выпадает ошибка, т.к. одно значение - это наличие только элемента с индексом 0 (`default_list[0]`)"
   ]
  }
 ],
 "metadata": {
  "kernelspec": {
   "display_name": "Python 3",
   "language": "python",
   "name": "python3"
  },
  "language_info": {
   "codemirror_mode": {
    "name": "ipython",
    "version": 3
   },
   "file_extension": ".py",
   "mimetype": "text/x-python",
   "name": "python",
   "nbconvert_exporter": "python",
   "pygments_lexer": "ipython3",
   "version": "3.6.9"
  }
 },
 "nbformat": 4,
 "nbformat_minor": 5
}
