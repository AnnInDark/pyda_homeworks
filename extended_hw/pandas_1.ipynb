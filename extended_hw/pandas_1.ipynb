{
 "cells": [
  {
   "cell_type": "markdown",
   "id": "guided-standing",
   "metadata": {},
   "source": [
    "## Задание 1\n",
    "Скачайте с сайта https://grouplens.org/datasets/movielens/ датасет любого размера. Определите какому фильму было выставлено больше всего оценок 5.0."
   ]
  },
  {
   "cell_type": "markdown",
   "id": "tracked-milwaukee",
   "metadata": {},
   "source": [
    "### Решение"
   ]
  },
  {
   "cell_type": "code",
   "execution_count": 3,
   "id": "clean-curve",
   "metadata": {},
   "outputs": [],
   "source": [
    "import pandas as pd\n",
    "\n",
    "movelens = pd.read_csv('/home/annindark/_pandas1_datasets/ml-latest/ratings.csv')\n",
    "movie = pd.read_csv('/home/annindark/_pandas1_datasets/ml-latest/movies.csv')\n",
    "\n",
    "movelens.info()\n",
    "'''\n",
    "memory usage: 847.0 MB\n",
    "'''\n",
    "\n",
    "# Выгребаем все оценки 5.0\n",
    "rate_movies = movelens[['movieId', 'userId']][ movelens.rating == 5.0 ].groupby('movieId').agg(['count'])\n",
    "# Преименовываем поле для удобства обращения\n",
    "rate_movies.columns = ['userCount']\n",
    "\n",
    "# Мержим с названием и годом\n",
    "new_df = pd.merge(\n",
    "    left=rate_movies,\n",
    "    right=movie[['movieId', 'title']],\n",
    "    how='left',\n",
    "    left_on='movieId',\n",
    "    right_on='movieId')\n",
    "\n",
    "# Получаем результат\n",
    "new_df.sort_values('userCount', ascending=False).head(1)['title'].values[0]\n"
   ]
  },
  {
   "cell_type": "markdown",
   "id": "vulnerable-purse",
   "metadata": {},
   "source": [
    "## Задание 2\n",
    "По данным файла power.csv посчитайте суммарное потребление стран Прибалтики (Латвия, Литва и Эстония) категорий 4, 12 и 21 за период с 2005 по 2010 года.\n",
    "Не учитывайте в расчетах отрицательные значения quantity."
   ]
  },
  {
   "cell_type": "markdown",
   "id": "forward-weapon",
   "metadata": {},
   "source": [
    "### Решение"
   ]
  },
  {
   "cell_type": "code",
   "execution_count": null,
   "id": "joined-indie",
   "metadata": {},
   "outputs": [],
   "source": [
    "import pandas as pd\n",
    "\n",
    "pcsv = pd.read_csv('/home/annindark/_pandas1_datasets/power.csv')\n",
    "\n",
    "# 3 фильтра + сумма\n",
    "pcsv[(pcsv.year.between(2005,2010))&(pcsv.category.isin([4,12,21]))&(pcsv.country.isin(['Latvia', 'Lithuania', 'Estonia']))&(pcsv.quantity > 0)].quantity.sum()"
   ]
  },
  {
   "cell_type": "markdown",
   "id": "banner-assistant",
   "metadata": {},
   "source": [
    "## Задание 3\n",
    "Выберите страницу любого сайта с табличными данными. Импортируйте таблицы в pandas dataframe.\n",
    "Примеры страниц (необязательно брать именно эти):\n",
    "\n",
    "https://fortrader.org/quotes\n",
    "\n",
    "https://www.finanz.ru/valyuty/v-realnom-vremeni"
   ]
  },
  {
   "cell_type": "markdown",
   "id": "funded-union",
   "metadata": {},
   "source": [
    "### Решение"
   ]
  },
  {
   "cell_type": "code",
   "execution_count": null,
   "id": "fantastic-photographer",
   "metadata": {},
   "outputs": [],
   "source": [
    "import pandas as pd\n",
    "\n",
    "\n",
    "mf = pd.read_html('https://fortrader.org/quotes')[2]\n",
    "mf.info()\n",
    "'''\n",
    "<class 'pandas.core.frame.DataFrame'>\n",
    "RangeIndex: 5 entries, 0 to 4\n",
    "Data columns (total 5 columns):\n",
    " #   Column        Non-Null Count  Dtype  \n",
    "---  ------        --------------  -----  \n",
    " 0   Название      5 non-null      object \n",
    " 1   Цена          5 non-null      object \n",
    " 2   Изменение     5 non-null      float64\n",
    " 3   Изменение(%)  5 non-null      float64\n",
    " 4   Обновлено     0 non-null      float64\n",
    "dtypes: float64(3), object(2)\n",
    "memory usage: 328.0+ bytes\n",
    "'''"
   ]
  }
 ],
 "metadata": {
  "kernelspec": {
   "display_name": "Python 3",
   "language": "python",
   "name": "python3"
  },
  "language_info": {
   "codemirror_mode": {
    "name": "ipython",
    "version": 3
   },
   "file_extension": ".py",
   "mimetype": "text/x-python",
   "name": "python",
   "nbconvert_exporter": "python",
   "pygments_lexer": "ipython3",
   "version": "3.6.9"
  }
 },
 "nbformat": 4,
 "nbformat_minor": 5
}
