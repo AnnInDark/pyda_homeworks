{
 "cells": [
  {
   "cell_type": "markdown",
   "id": "neither-occasion",
   "metadata": {},
   "source": [
    "## Задание 1\n",
    "Создайте numpy array с элементами от числа N до 0 (например, для N = 10 это будет array([9, 8, 7, 6, 5, 4, 3, 2, 1, 0])).\n"
   ]
  },
  {
   "cell_type": "markdown",
   "id": "external-concert",
   "metadata": {},
   "source": [
    "### Решение"
   ]
  },
  {
   "cell_type": "code",
   "execution_count": null,
   "id": "alpha-sport",
   "metadata": {},
   "outputs": [],
   "source": [
    "import numpy as np\n",
    "\n",
    "def NumArrayN(n):\n",
    "    return np.arange(0, int(n))[::-1]\n",
    "\n",
    "NumArrayN(10)"
   ]
  },
  {
   "cell_type": "markdown",
   "id": "touched-history",
   "metadata": {},
   "source": [
    "## Задание 2\n",
    "Создайте диагональную матрицу с элементами от N до 0. Посчитайте сумму ее значений на диагонали."
   ]
  },
  {
   "cell_type": "markdown",
   "id": "attended-stock",
   "metadata": {},
   "source": [
    "### Решение"
   ]
  },
  {
   "cell_type": "code",
   "execution_count": null,
   "id": "fourth-syntax",
   "metadata": {},
   "outputs": [],
   "source": [
    "import numpy as np\n",
    "\n",
    "def CreateDMatrix(n):\n",
    "    return np.diag(np.arange(0, n))\n",
    "\n",
    "a = CreateDMatrix(10)\n",
    "print(np.trace(a))\n",
    "\n",
    "# Альтернативно: np.arange(0, n).sum() или a.reshape(n**2,).sum(), но при сохранении n снаружи ф-ции"
   ]
  },
  {
   "cell_type": "markdown",
   "id": "seasonal-diameter",
   "metadata": {},
   "source": [
    "## Задание 3\n",
    "Решите систему уравнений:\n",
    "```\n",
    "4x + 2y + z = 4\n",
    "x + 3y = 12\n",
    "5y + 4z = -3\n",
    "```"
   ]
  },
  {
   "cell_type": "markdown",
   "id": "settled-attachment",
   "metadata": {},
   "source": [
    "### Решение"
   ]
  },
  {
   "cell_type": "code",
   "execution_count": null,
   "id": "worth-watts",
   "metadata": {},
   "outputs": [],
   "source": [
    "import numpy as np\n",
    "\n",
    "print(np.linalg.solve(np.array([[4,2,1],[1,3,0],[0,5,4]]), np.array([4, 12, -3])))\n",
    "\n",
    "# Проверка\n",
    "#np.allclose(np.dot(np.array([[4,2,1],[1,3,0],[0,5,4]]), np.linalg.solve(np.array([[4,2,1],[1,3,0],[0,5,4]]), np.array([4, 12, -3]))), np.array([4, 12, -3]))"
   ]
  },
  {
   "cell_type": "markdown",
   "id": "harmful-midwest",
   "metadata": {},
   "source": [
    "## Задание 4\n",
    "Имеется матрица покупок в интернет-магазине. Столбец А - ID пользователя. Остальные столбцы - количество покупок категорий товаров этим пользователем\n",
    "Матрица в виде numpy array\n",
    "\n",
    "```\n",
    "users_stats = np.array(\n",
    "    [\n",
    "        [2, 1, 0, 0, 0, 0],\n",
    "        [1, 1, 2, 1, 0, 0],\n",
    "        [2, 0, 1, 0, 0, 0],\n",
    "        [1, 1, 2, 1, 0, 1],\n",
    "        [0, 0, 1, 2, 0, 0],\n",
    "        [0, 0, 0, 0, 0, 5],\n",
    "        [1, 0, 0, 0, 0, 0],\n",
    "        [0, 1, 1, 0, 0, 0],\n",
    "        [0, 0, 0, 1, 1, 3],\n",
    "        [1, 0, 0, 2, 1, 4]\n",
    "    ], \n",
    "    np.int32\n",
    ")\n",
    "```\n",
    "\n",
    "На сайт заходит очередной посетитель, о покупках которого известно следующее:\n",
    "`next_user_stats = np.array([0, 1, 2, 0, 0, 0])`\n",
    "\n",
    "Найдите самого похожего пользователя. Т. е. посчитайте косинусное сходство между этим пользователем и всеми пользователями из массива user_stats"
   ]
  },
  {
   "cell_type": "markdown",
   "id": "geographic-nepal",
   "metadata": {},
   "source": [
    "### Решение"
   ]
  },
  {
   "cell_type": "code",
   "execution_count": null,
   "id": "british-conference",
   "metadata": {},
   "outputs": [],
   "source": [
    "import numpy as np\n",
    "import operator\n",
    "\n",
    "users_stats = np.array(\n",
    "    [\n",
    "        [2, 1, 0, 0, 0, 0],\n",
    "        [1, 1, 2, 1, 0, 0],\n",
    "        [2, 0, 1, 0, 0, 0],\n",
    "        [1, 1, 2, 1, 0, 1],\n",
    "        [0, 0, 1, 2, 0, 0],\n",
    "        [0, 0, 0, 0, 0, 5],\n",
    "        [1, 0, 0, 0, 0, 0],\n",
    "        [0, 1, 1, 0, 0, 0],\n",
    "        [0, 0, 0, 1, 1, 3],\n",
    "        [1, 0, 0, 2, 1, 4]\n",
    "    ],\n",
    "    np.int32\n",
    ")\n",
    "\n",
    "next_user_stats = np.array([0, 1, 2, 0, 0, 0])\n",
    "\n",
    "# Некоторые сложности, т.к. ид юзера не участвует в вышеуказанной матрице (которая длиннее, чем на картнке в лекции).\n",
    "# Поэтому условно додумала, что ид продолжаются в порядке возрастания, хотя такой расчет, конечно же, очень условен\n",
    "\n",
    "d = {}\n",
    "for n, i in enumerate(range(0,len(users_stats))):\n",
    "    d[n+1] = np.dot( next_user_stats, users_stats[i,:] ) / ( np.linalg.norm( next_user_stats ) * np.linalg.norm( users_stats[i,:] ) )\n",
    "\n",
    "print(max(d.items(), key=operator.itemgetter(1))[0])"
   ]
  }
 ],
 "metadata": {
  "kernelspec": {
   "display_name": "Python 3",
   "language": "python",
   "name": "python3"
  },
  "language_info": {
   "codemirror_mode": {
    "name": "ipython",
    "version": 3
   },
   "file_extension": ".py",
   "mimetype": "text/x-python",
   "name": "python",
   "nbconvert_exporter": "python",
   "pygments_lexer": "ipython3",
   "version": "3.6.9"
  }
 },
 "nbformat": 4,
 "nbformat_minor": 5
}
