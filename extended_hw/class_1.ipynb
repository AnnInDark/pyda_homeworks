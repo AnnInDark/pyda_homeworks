{
 "cells": [
  {
   "cell_type": "markdown",
   "id": "dense-tsunami",
   "metadata": {},
   "source": [
    "### Задание 1\n",
    "Напишите функцию, которая возвращает название валюты (поле ‘Name’) с максимальным значением курса с помощью сервиса https://www.cbr-xml-daily.ru/daily_json.js"
   ]
  },
  {
   "cell_type": "markdown",
   "id": "historical-obligation",
   "metadata": {},
   "source": [
    "### Решение"
   ]
  },
  {
   "cell_type": "code",
   "execution_count": null,
   "id": "dying-engagement",
   "metadata": {},
   "outputs": [],
   "source": [
    "#Не уверена, что правильно поняла задачу и перемедрила кажется\n",
    "import requests\n",
    "\n",
    "def max_currency():\n",
    "        v = requests.get('https://www.cbr-xml-daily.ru/daily_json.js').json()['Valute']\n",
    "        new_dict = {val['Name']: val['Value'] for val in v.values()}\n",
    "        max_val = sorted(list(new_dict.values()))[-1]\n",
    "        for k, val in new_dict.items():\n",
    "                if val == max_val:\n",
    "                        return(k)\n",
    "\n",
    "max_currency()\n"
   ]
  },
  {
   "cell_type": "markdown",
   "id": "offshore-threshold",
   "metadata": {},
   "source": [
    "### Задание 2\n",
    "Добавьте в класс Rate параметр diff (со значениями True или False), который в случае значения True в методах курсов валют (eur, usd итд) будет возвращать не курс валюты, а изменение по сравнению в прошлым значением. Считайте, self.diff будет принимать значение True только при возврате значения курса. При отображении всей информации о валюте он не используется."
   ]
  },
  {
   "cell_type": "markdown",
   "id": "indie-variance",
   "metadata": {},
   "source": [
    "### Решение"
   ]
  },
  {
   "cell_type": "code",
   "execution_count": null,
   "id": "commercial-sympathy",
   "metadata": {},
   "outputs": [],
   "source": [
    "# На всякий члучай приложу класс целиком. Добавлен параметр метода __init__, его обработка для исключения обозначенного условия, а так же верхняя ф-ция вывода make_format, которую уже используют методы конкретных валют\n",
    "\n",
    "class Rate:\n",
    "    def __init__(self, format='value', diff='false'):\n",
    "        self.format = format\n",
    "        self.diff = diff\n",
    "        # self.diff будет принимать значение True только при возврате значения курса. При отображении всей информации о валюте он не используется.\n",
    "        if format!='value' and diff=='true':\n",
    "            self.diff = 'false'\n",
    "\n",
    "    \n",
    "    def exchange_rates(self):\n",
    "        \"\"\"\n",
    "        Возвращает ответ сервиса с информацией о валютах в виде:\n",
    "\n",
    "        {\n",
    "            'AMD': {\n",
    "                'CharCode': 'AMD',\n",
    "                'ID': 'R01060',\n",
    "                'Name': 'Армянских драмов',\n",
    "                'Nominal': 100,\n",
    "                'NumCode': '051',\n",
    "                'Previous': 14.103,\n",
    "                'Value': 14.0879\n",
    "                },\n",
    "            ...\n",
    "        }\n",
    "        \"\"\"\n",
    "        r = requests.get('https://www.cbr-xml-daily.ru/daily_json.js')\n",
    "        return r.json()['Valute']\n",
    "    \n",
    "    def make_format(self, currency):\n",
    "        \"\"\"\n",
    "        Возвращает информацию о валюте currency в двух вариантах:\n",
    "        - полная информация о валюте при self.format = 'full':\n",
    "        Rate('full').make_format('EUR')\n",
    "        {\n",
    "            'CharCode': 'EUR',\n",
    "            'ID': 'R01239',\n",
    "            'Name': 'Евро',\n",
    "            'Nominal': 1,\n",
    "            'NumCode': '978',\n",
    "            'Previous': 79.6765,\n",
    "            'Value': 79.4966\n",
    "        }\n",
    "\n",
    "        Rate('value').make_format('EUR')\n",
    "        79.4966\n",
    "        \"\"\"\n",
    "        response = self.exchange_rates()\n",
    "        if currency in response:\n",
    "            if self.format == 'full':\n",
    "                return response[currency]\n",
    "\n",
    "            if self.format == 'value':\n",
    "                if self.diff == 'false':\n",
    "                    return response[currency]['Value']\n",
    "                else:\n",
    "                    return (response[currency]['Value']-response[currency]['Previous'])\n",
    "        return 'Error'\n",
    "    def eur(self):\n",
    "        \"\"\"Возвращает курс евро на сегодня в формате self.format\"\"\"\n",
    "        return self.make_format('EUR')\n",
    "    def usd(self):\n",
    "        \"\"\"Возвращает курс доллара на сегодня в формате self.format\"\"\"\n",
    "        return self.make_format('USD')\n",
    "    def AZN(self):\n",
    "        \"\"\"Возвращает курс азербайджанского маната на сегодня в формате self.format\"\"\"\n",
    "        return self.make_format('AZN')\n"
   ]
  },
  {
   "cell_type": "markdown",
   "id": "applicable-reverse",
   "metadata": {},
   "source": [
    "### Задание 3\n",
    "Напишите класс Designer, который учитывает количество международных премий. Подсказки в коде занятия в разделе “Домашнее задание задача 3”."
   ]
  },
  {
   "cell_type": "markdown",
   "id": "toxic-ultimate",
   "metadata": {},
   "source": [
    "### Решение"
   ]
  },
  {
   "cell_type": "code",
   "execution_count": 2,
   "id": "demanding-election",
   "metadata": {},
   "outputs": [],
   "source": [
    "class Employee:\n",
    "    def __init__(self, name, seniority):\n",
    "        self.name = name\n",
    "        self.seniority = seniority\n",
    "        self.grade = 1\n",
    "    def grade_up(self):\n",
    "        \"\"\"Повышает уровень сотрудника\"\"\"\n",
    "        self.grade += 1\n",
    "    def publish_grade(self):\n",
    "        \"\"\"Публикация результатов аккредитации сотрудников\"\"\"\n",
    "        print(self.name, self.grade)\n",
    "    def check_if_it_is_time_for_upgrade(self):\n",
    "        pass\n",
    "\n",
    "\n",
    "class Designer(Employee):\n",
    "        def __init__(self, name, seniority, international_award = 2): # при выходе на работу сотрудник уже имеет две премии\n",
    "                super().__init__(name, seniority)\n",
    "                self.international_award = international_award\n",
    "                self.check_if_it_is_time_for_upgrade()\n",
    "        # Добавляем метод \"вручения\" награды\n",
    "        def designer_get_international_award(self):\n",
    "                self.international_award += 1\n",
    "        # Добавляем метод аккредитации, по дефолту - прошел\n",
    "        def designer_accreditation(self, result = 'true'):\n",
    "                if result == 'true':\n",
    "                        # для каждой аккредитации увеличиваем счетчик на 1\n",
    "                        self.seniority += 1\n",
    "        def check_if_it_is_time_for_upgrade(self):\n",
    "                # Грейд всегда будет сумма баллов за аккредитации+премии, деленный на 7, так что кажется можно упростить\n",
    "                # Так же поможет для случая, когда насобирал наград между аттестациями более чем на 1 грейд\n",
    "                self.grade = (self.seniority + self.international_award*2) // 7\n",
    "                # публикация результатов\n",
    "                return self.publish_grade()"
   ]
  }
 ],
 "metadata": {
  "kernelspec": {
   "display_name": "Python 3",
   "language": "python",
   "name": "python3"
  },
  "language_info": {
   "codemirror_mode": {
    "name": "ipython",
    "version": 3
   },
   "file_extension": ".py",
   "mimetype": "text/x-python",
   "name": "python",
   "nbconvert_exporter": "python",
   "pygments_lexer": "ipython3",
   "version": "3.6.9"
  }
 },
 "nbformat": 4,
 "nbformat_minor": 5
}
